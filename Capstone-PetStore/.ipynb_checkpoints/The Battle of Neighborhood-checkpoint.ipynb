{
 "cells": [
  {
   "cell_type": "markdown",
   "metadata": {},
   "source": [
    "# Finding a New Pet Store Location in St. Paul, MN"
   ]
  },
  {
   "cell_type": "markdown",
   "metadata": {},
   "source": [
    "## Introduction / Business Problem"
   ]
  },
  {
   "cell_type": "markdown",
   "metadata": {},
   "source": [
    "In 2019, US residents are estimated to spend [more than $75 billion](https://www.americanpetproducts.org/press_industrytrends.asp) for their pets. With more than 40\\% of it being spent on food, pet store is a lucrative business to get into. \n",
    "\n",
    "Our friend, John Doe, wants to open a new pet store in St. Paul, MN area, and has asked me to help finding a location for it. Cost of doing business in a metropolis city like St. Paul can be stratospheric, so location needs to be analyzed carefully. The insight will provide a good understanding on the target market and reduce risk of opening a location in the wrong side of the city. "
   ]
  },
  {
   "cell_type": "markdown",
   "metadata": {},
   "source": [
    "## Target Audience"
   ]
  },
  {
   "cell_type": "markdown",
   "metadata": {},
   "source": [
    "John Doe will be my target audience for this project. The objective is to locate a neighborhood to open his new pet store in the city of St. Paul, MN. We will ensure the neighborhood that I pick is the most optimum one. "
   ]
  },
  {
   "cell_type": "markdown",
   "metadata": {},
   "source": [
    "## Data"
   ]
  },
  {
   "cell_type": "markdown",
   "metadata": {},
   "source": [
    "1. Zipcode data from [uszipcode](https://uszipcode.readthedocs.io/index.html#) Python package. It provides data for the **latitude and longitude** of all zipcode in the St. Paul, MN area along with the **median household income**.\n",
    "2. FourSquare data from FourSquare [Places API](https://developer.foursquare.com/docs/api). I will utilize the explore function to get venue recommendations and zone in on the pet related categories (e.g. pet store, dog park, dog friendly restaurants) "
   ]
  },
  {
   "cell_type": "code",
   "execution_count": null,
   "metadata": {},
   "outputs": [],
   "source": []
  }
 ],
 "metadata": {
  "kernelspec": {
   "display_name": "Python 3",
   "language": "python",
   "name": "python3"
  },
  "language_info": {
   "codemirror_mode": {
    "name": "ipython",
    "version": 3
   },
   "file_extension": ".py",
   "mimetype": "text/x-python",
   "name": "python",
   "nbconvert_exporter": "python",
   "pygments_lexer": "ipython3",
   "version": "3.7.1"
  }
 },
 "nbformat": 4,
 "nbformat_minor": 2
}
